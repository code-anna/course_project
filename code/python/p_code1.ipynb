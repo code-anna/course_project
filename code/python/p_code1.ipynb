{
 "cells": [
  {
   "cell_type": "markdown",
   "id": "80a36549-cf81-4367-8a20-504e16daa14f",
   "metadata": {},
   "source": [
    "# Introduction"
   ]
  },
  {
   "cell_type": "markdown",
   "id": "70d2c013-8c4e-4f13-baa6-c9a362afb9eb",
   "metadata": {},
   "source": [
    "## Preparations"
   ]
  },
  {
   "cell_type": "code",
   "execution_count": 81,
   "id": "484fc749-729d-48d5-b547-396bb39d0ddd",
   "metadata": {},
   "outputs": [],
   "source": [
    "# import required packages\n",
    "import pandas as pd\n",
    "import numpy as np\n",
    "import matplotlib.pyplot as plt\n",
    "import seaborn as sns"
   ]
  },
  {
   "cell_type": "code",
   "execution_count": 82,
   "id": "9719dd3d-24e5-4d47-b3b3-8003db3c69b4",
   "metadata": {},
   "outputs": [],
   "source": [
    "# load data\n",
    "data = pd.read_csv('../../data/V-Dem-CY-Core-v14.csv')"
   ]
  },
  {
   "cell_type": "markdown",
   "id": "c10b90ac-afa2-4919-8284-f8e3bb5c65b1",
   "metadata": {},
   "source": [
    "## Explore the Data"
   ]
  },
  {
   "cell_type": "code",
   "execution_count": 83,
   "id": "410b6c7f-fa64-4c7e-b5a8-00d17a92792c",
   "metadata": {},
   "outputs": [
    {
     "name": "stdout",
     "output_type": "stream",
     "text": [
      "  country_name country_text_id  country_id  year historical_date  project  \\\n",
      "0       Mexico             MEX           3  1789      1789-12-31        1   \n",
      "1       Mexico             MEX           3  1790      1790-12-31        1   \n",
      "2       Mexico             MEX           3  1791      1791-12-31        1   \n",
      "3       Mexico             MEX           3  1792      1792-12-31        1   \n",
      "4       Mexico             MEX           3  1793      1793-12-31        1   \n",
      "\n",
      "   historical                  histname  codingstart  codingend  ...  \\\n",
      "0           1  Viceroyalty of New Spain         1789       2023  ...   \n",
      "1           1  Viceroyalty of New Spain         1789       2023  ...   \n",
      "2           1  Viceroyalty of New Spain         1789       2023  ...   \n",
      "3           1  Viceroyalty of New Spain         1789       2023  ...   \n",
      "4           1  Viceroyalty of New Spain         1789       2023  ...   \n",
      "\n",
      "   v2xex_elecleg  v2xps_party  v2xps_party_codelow  v2xps_party_codehigh  \\\n",
      "0            0.0          NaN                  NaN                   NaN   \n",
      "1            0.0          NaN                  NaN                   NaN   \n",
      "2            0.0          NaN                  NaN                   NaN   \n",
      "3            0.0          NaN                  NaN                   NaN   \n",
      "4            0.0          NaN                  NaN                   NaN   \n",
      "\n",
      "   v2x_divparctrl  v2x_feduni  v2xca_academ  v2xca_academ_codelow  \\\n",
      "0             NaN         0.0           NaN                   NaN   \n",
      "1             NaN         0.0           NaN                   NaN   \n",
      "2             NaN         0.0           NaN                   NaN   \n",
      "3             NaN         0.0           NaN                   NaN   \n",
      "4             NaN         0.0           NaN                   NaN   \n",
      "\n",
      "   v2xca_academ_codehigh  v2xca_academ_sd  \n",
      "0                    NaN              NaN  \n",
      "1                    NaN              NaN  \n",
      "2                    NaN              NaN  \n",
      "3                    NaN              NaN  \n",
      "4                    NaN              NaN  \n",
      "\n",
      "[5 rows x 1818 columns]\n"
     ]
    }
   ],
   "source": [
    "print(data.head())"
   ]
  },
  {
   "cell_type": "markdown",
   "id": "ba53f4ee-0b95-4aff-b1ec-f7696fba1123",
   "metadata": {},
   "source": [
    "## Filter data"
   ]
  },
  {
   "cell_type": "code",
   "execution_count": 84,
   "id": "6407c5e1-ac3c-4201-8965-adb2e928b892",
   "metadata": {},
   "outputs": [
    {
     "name": "stdout",
     "output_type": "stream",
     "text": [
      "  country_name  year  v2x_regime  v2x_polyarchy  v2x_libdem  v2x_civlib  \\\n",
      "0       Mexico  1789         NaN          0.028       0.045       0.221   \n",
      "1       Mexico  1790         NaN          0.028       0.045       0.221   \n",
      "2       Mexico  1791         NaN          0.028       0.045       0.221   \n",
      "3       Mexico  1792         NaN          0.028       0.045       0.221   \n",
      "4       Mexico  1793         NaN          0.028       0.045       0.221   \n",
      "\n",
      "   v2x_rule  v2x_egaldem  \n",
      "0     0.272          NaN  \n",
      "1     0.272          NaN  \n",
      "2     0.272          NaN  \n",
      "3     0.272          NaN  \n",
      "4     0.272          NaN  \n"
     ]
    }
   ],
   "source": [
    "# Create subset of data with fewer variables\n",
    "subset_columns = ['country_name', 'year', 'v2x_regime', 'v2x_polyarchy', 'v2x_libdem', 'v2x_civlib', 'v2x_rule', 'v2x_egaldem']\n",
    "democracy_df = data[subset_columns].copy()\n",
    "print(democracy_df.head())"
   ]
  },
  {
   "cell_type": "code",
   "execution_count": 85,
   "id": "b17362fd-2c51-4e0a-beb9-35b47e4e59d6",
   "metadata": {},
   "outputs": [
    {
     "name": "stdout",
     "output_type": "stream",
     "text": [
      "    country_name  year  v2x_regime  v2x_polyarchy  v2x_libdem  v2x_civlib  \\\n",
      "201       Mexico  1990         1.0          0.393       0.191       0.606   \n",
      "202       Mexico  1991         1.0          0.415       0.202       0.618   \n",
      "203       Mexico  1992         1.0          0.441       0.216       0.628   \n",
      "204       Mexico  1993         1.0          0.455       0.221       0.640   \n",
      "205       Mexico  1994         1.0          0.474       0.261       0.652   \n",
      "\n",
      "     v2x_rule  v2x_egaldem  \n",
      "201     0.338        0.193  \n",
      "202     0.338        0.204  \n",
      "203     0.338        0.215  \n",
      "204     0.338        0.220  \n",
      "205     0.456        0.233  \n"
     ]
    }
   ],
   "source": [
    "# Filter for observations after 1990\n",
    "democracy_df_recent = democracy_df[democracy_df['year'] >= 1990].copy()\n",
    "print(democracy_df_recent.head())"
   ]
  },
  {
   "cell_type": "markdown",
   "id": "017d3aa2-0b15-43fe-b1af-aa465599bdf3",
   "metadata": {},
   "source": [
    "## Clean the Dataset"
   ]
  },
  {
   "cell_type": "code",
   "execution_count": 86,
   "id": "f1fd8d50-d635-46df-9d14-b10e8636ba7b",
   "metadata": {},
   "outputs": [
    {
     "name": "stdout",
     "output_type": "stream",
     "text": [
      "country_name      object\n",
      "year               int64\n",
      "v2x_regime       float64\n",
      "v2x_polyarchy    float64\n",
      "v2x_libdem       float64\n",
      "v2x_civlib       float64\n",
      "v2x_rule         float64\n",
      "v2x_egaldem      float64\n",
      "dtype: object\n"
     ]
    }
   ],
   "source": [
    "# check variable types\n",
    "print(democracy_df_recent.dtypes)"
   ]
  },
  {
   "cell_type": "code",
   "execution_count": 87,
   "id": "666b7aab-60b1-4a04-ab70-c1994c6d83ee",
   "metadata": {},
   "outputs": [
    {
     "name": "stdout",
     "output_type": "stream",
     "text": [
      "country_name     string[python]\n",
      "year                      int64\n",
      "v2x_regime              float64\n",
      "v2x_polyarchy           float64\n",
      "v2x_libdem              float64\n",
      "v2x_civlib              float64\n",
      "v2x_rule                float64\n",
      "v2x_egaldem             float64\n",
      "dtype: object\n"
     ]
    }
   ],
   "source": [
    "# adjust variable type to make 'country' variable more efficient (as string rather than object'\n",
    "democracy_df_recent['country_name'] = democracy_df_recent['country_name'].astype('string')\n",
    "print(democracy_df_recent.dtypes)"
   ]
  },
  {
   "cell_type": "code",
   "execution_count": 88,
   "id": "5254bd28-9b1d-494a-8c5b-a4c57f6e73f7",
   "metadata": {},
   "outputs": [],
   "source": [
    "# transformation of variables\n",
    "# part I: rename variables - using a list\n",
    "\n",
    "# create a list with new column names\n",
    "new_column_names = ['country', 'year', 'regime_type', 'polyarchy', 'liberal_dem', 'civil_liberties', 'rule_of_law', 'egalitarian_dem']\n",
    "\n",
    "democracy_df_recent.columns = new_column_names\n"
   ]
  },
  {
   "cell_type": "code",
   "execution_count": 89,
   "id": "60e6fd0d-9355-4f05-8c8b-7d9b108b9cca",
   "metadata": {},
   "outputs": [
    {
     "name": "stdout",
     "output_type": "stream",
     "text": [
      "Min  year               1990.000\n",
      "regime_type           0.000\n",
      "polyarchy             0.013\n",
      "liberal_dem           0.005\n",
      "civil_liberties       0.015\n",
      "rule_of_law           0.009\n",
      "egalitarian_dem       0.022\n",
      "dtype: float64 , Max  year               2023.000\n",
      "regime_type           3.000\n",
      "polyarchy             0.922\n",
      "liberal_dem           0.897\n",
      "civil_liberties       0.976\n",
      "rule_of_law           0.999\n",
      "egalitarian_dem       0.886\n",
      "dtype: float64\n"
     ]
    }
   ],
   "source": [
    "# transform variables: recode from 0-1 to 0.100 scale - using a loop\n",
    "numeric_columns = democracy_df_recent.select_dtypes(include=['number'])\n",
    "\n",
    "min_values = numeric_columns.min()\n",
    "max_values = numeric_columns.max()\n",
    "print(\"Min \", min_values, \", Max \", max_values)"
   ]
  },
  {
   "cell_type": "code",
   "execution_count": 90,
   "id": "42fcce50-b5e2-41f4-ac45-79000b25b4d0",
   "metadata": {},
   "outputs": [
    {
     "name": "stdout",
     "output_type": "stream",
     "text": [
      "    country  year  regime_type  polyarchy  liberal_dem  civil_liberties  \\\n",
      "201  Mexico  1990          1.0       39.3         19.1             60.6   \n",
      "202  Mexico  1991          1.0       41.5         20.2             61.8   \n",
      "203  Mexico  1992          1.0       44.1         21.6             62.8   \n",
      "204  Mexico  1993          1.0       45.5         22.1             64.0   \n",
      "205  Mexico  1994          1.0       47.4         26.1             65.2   \n",
      "\n",
      "     rule_of_law  egalitarian_dem  \n",
      "201         33.8             19.3  \n",
      "202         33.8             20.4  \n",
      "203         33.8             21.5  \n",
      "204         33.8             22.0  \n",
      "205         45.6             23.3  \n"
     ]
    }
   ],
   "source": [
    "transform_variables = ['polyarchy', 'liberal_dem', 'civil_liberties', 'rule_of_law', 'egalitarian_dem']\n",
    "for variable in transform_variables:\n",
    "    democracy_df_recent[variable] = democracy_df_recent[variable] * 100\n",
    "print(democracy_df_recent.head())"
   ]
  },
  {
   "cell_type": "code",
   "execution_count": 91,
   "id": "67c8e2dc-538a-463a-896a-19aed17fd4ff",
   "metadata": {},
   "outputs": [
    {
     "name": "stdout",
     "output_type": "stream",
     "text": [
      "country             0\n",
      "year                0\n",
      "regime_type         2\n",
      "polyarchy           2\n",
      "liberal_dem        23\n",
      "civil_liberties     0\n",
      "rule_of_law         0\n",
      "egalitarian_dem     2\n",
      "dtype: int64\n"
     ]
    }
   ],
   "source": [
    "# check for NA values\n",
    "print(democracy_df_recent.isna().sum())"
   ]
  },
  {
   "cell_type": "code",
   "execution_count": null,
   "id": "3c8aeb77-a103-40b0-80c1-fbd9a36c1905",
   "metadata": {},
   "outputs": [],
   "source": []
  }
 ],
 "metadata": {
  "kernelspec": {
   "display_name": "Python 3 (ipykernel)",
   "language": "python",
   "name": "python3"
  },
  "language_info": {
   "codemirror_mode": {
    "name": "ipython",
    "version": 3
   },
   "file_extension": ".py",
   "mimetype": "text/x-python",
   "name": "python",
   "nbconvert_exporter": "python",
   "pygments_lexer": "ipython3",
   "version": "3.12.4"
  }
 },
 "nbformat": 4,
 "nbformat_minor": 5
}
